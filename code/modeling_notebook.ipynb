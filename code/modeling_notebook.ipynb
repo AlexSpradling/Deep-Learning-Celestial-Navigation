{
 "cells": [
  {
   "attachments": {},
   "cell_type": "markdown",
   "metadata": {},
   "source": [
    "# Modeling Notebook"
   ]
  },
  {
   "cell_type": "code",
   "execution_count": 132,
   "metadata": {},
   "outputs": [],
   "source": [
    "import numpy as np\n",
    "import matplotlib.pyplot as plt\n",
    "import seaborn as sns\n",
    "import pandas as pd\n",
    "import os\n",
    "import re\n",
    "import datetime as dt\n",
    "import random\n",
    "import pickle\n",
    "import shutil\n",
    "import subprocess\n",
    "\n",
    "# opencv\n",
    "import cv2\n",
    "\n",
    "# tensorflow/keras\n",
    "import tensorflow as tf\n",
    "from tensorflow.keras.layers import Input, Dense, Conv2D, Dropout, Lambda, Concatenate,Flatten, concatenate, LSTM, MaxPooling2D, Permute, Reshape, TimeDistributed\n",
    "from tensorflow.keras.preprocessing.image import ImageDataGenerator\n",
    "from keras.utils.data_utils import Sequence\n",
    "from tensorflow.keras import Model\n",
    "from tensorflow.keras.callbacks import EarlyStopping\n",
    "# import resnet\n",
    "from tensorflow.keras.applications import ResNet50\n",
    "\n",
    "# sklearn\n",
    "from sklearn.model_selection import train_test_split\n",
    "from sklearn.preprocessing import scale\n",
    "from sklearn.preprocessing import MinMaxScaler\n",
    "\n",
    "# custom\n",
    "from utilities import extract_position_time, normalize_datetime, \\\n",
    "normalize_y, get_lat_long_bounds, normalize_times, un_normalize, \\\n",
    "confidence_ellipse\n",
    "\n",
    "from image_generator import get_waypoints"
   ]
  },
  {
   "cell_type": "code",
   "execution_count": 133,
   "metadata": {},
   "outputs": [],
   "source": [
    "files_train = os.listdir('../images/train')\n",
    "files_train = [f for f in files_train if f.endswith('.png')]\n",
    "\n",
    "# files_val = os.listdir('../images/valid')\n",
    "# files_val= [f for f in files_val if f.endswith('.png')]\n",
    "\n",
    "files = files_train \n",
    "\n",
    "# create array of position\n",
    "position = np.array([extract_position_time(f)[0] for f in files])\n",
    "\n",
    "# create array of time\n",
    "times = np.array([extract_position_time(f)[1] for f in files])"
   ]
  },
  {
   "attachments": {},
   "cell_type": "markdown",
   "metadata": {},
   "source": [
    "# Loss Functions"
   ]
  },
  {
   "attachments": {},
   "cell_type": "markdown",
   "metadata": {},
   "source": [
    "There is a non-linear relationship between Latitude and Longitude. Rather than use Root Mean Square Error or another more commonly used ML metric, we can use two methods of determing a distance between sets of positions, great circle distance or mercator distance. "
   ]
  },
  {
   "attachments": {},
   "cell_type": "markdown",
   "metadata": {},
   "source": [
    "Great Circle"
   ]
  },
  {
   "cell_type": "code",
   "execution_count": 134,
   "metadata": {},
   "outputs": [],
   "source": [
    "def haversine_loss(y_true, y_pred, R=3440):\n",
    "\n",
    "    # un-normalize the lat and long\n",
    "    lat_min, lat_range, long_min, long_range = get_lat_long_bounds(position)\n",
    "    lat1  = y_true[:,0] * lat_range + lat_min\n",
    "    lat2  = y_pred[:,0] * lat_range + lat_min\n",
    "    long1 = y_true[:,1] * long_range + long_min\n",
    "    long2 = y_pred[:,1] * long_range + long_min \n",
    "    \n",
    "    # Compute phis and lambdas \n",
    "    phi1 = lat1 * np.pi / 180\n",
    "    phi2 = lat2 * np.pi / 180\n",
    "    delta_phi    = (lat2 - lat1) * np.pi / 180\n",
    "    delta_lambda = (long2 - long1) * np.pi / 180\n",
    "    \n",
    "    # Intermediate computations\n",
    "    a = tf.square(tf.sin(delta_phi / 2)) + tf.cos(phi1) * tf.cos(phi2) * tf.square(tf.sin(delta_lambda / 2))\n",
    "    c = 2 * tf.atan2(tf.sqrt(a), tf.sqrt(1 - a))\n",
    "    \n",
    "    # Compute distances\n",
    "    d = R * c\n",
    "\n",
    "    return tf.reduce_mean(d)\n",
    "\n",
    "\n",
    "def haversine_loss_2_nautical_miles(y_true, y_pred):\n",
    "    R = 3440  # radius of Earth in nautical miles\n",
    "    lat1, lon1 = np.deg2rad(y_true[:, 0]), np.deg2rad(y_true[:, 1])\n",
    "    lat2, lon2 = np.deg2rad(y_pred[:, 0]), np.deg2rad(y_pred[:, 1])\n",
    "    dlat = lat2 - lat1\n",
    "    dlon = lon2 - lon1\n",
    "    a = np.sin(dlat / 2)**2 + np.cos(lat1) * np.cos(lat2) * np.sin(dlon / 2)**2\n",
    "    c = 2 * np.arcsin(np.sqrt(a))\n",
    "    return R * c\n"
   ]
  },
  {
   "attachments": {},
   "cell_type": "markdown",
   "metadata": {},
   "source": [
    "Mercator"
   ]
  },
  {
   "cell_type": "code",
   "execution_count": 135,
   "metadata": {},
   "outputs": [],
   "source": [
    "def mercator_loss(y_true, y_pred):\n",
    "    # Convert normalized lat and long into actuals\n",
    "    lat_min, lat_range, long_min, long_range = get_lat_long_bounds(position)\n",
    "    lat1  = y_true[:,0] * lat_range + lat_min\n",
    "    lat2  = y_pred[:,0] * lat_range + lat_min\n",
    "    long1 = y_true[:,1] * long_range + long_min\n",
    "    long2 = y_pred[:,1] * long_range + long_min\n",
    "\n",
    "    # compute meridional parts\n",
    "    mpartsinitial = 7915.7045 * np.log10(\n",
    "                np.tan(np.pi / 4 + (np.deg2rad(lat1) / 2))) - 23.2689 * np.sin(\n",
    "                np.deg2rad(lat1))\n",
    "    mpartssecond = 7915.7045 * np.log10(np.tan(np.pi / 4 + (np.deg2rad(lat2) / 2))) - 23.2689 * np.sin(\n",
    "                np.deg2rad(lat2))\n",
    "                \n",
    "    little1 = (mpartssecond - mpartsinitial) \n",
    "    \n",
    "    # compute dlat\n",
    "    dlat = np.deg2rad(lat2 - lat1)\n",
    "\n",
    "    # compute dlong\n",
    "    dlong = np.deg2rad(long2 - long1)\n",
    "\n",
    "    # compute course\n",
    "    course = np.arctan2(dlong,np.deg2rad(little1/60))\n",
    "\n",
    "    # compute distance\n",
    "    d = np.rad2deg(dlat/np.cos(course)) * 60\n",
    "\n",
    "    return tf.reduce_mean(d)"
   ]
  },
  {
   "attachments": {},
   "cell_type": "markdown",
   "metadata": {},
   "source": [
    "# Generator Functions"
   ]
  },
  {
   "cell_type": "code",
   "execution_count": 136,
   "metadata": {},
   "outputs": [],
   "source": [
    "class CustomGenerator(Sequence):\n",
    "    def __init__(self, directory, batch_size=32, segment = 'Train'):\n",
    "        \n",
    "        self.directory = directory\n",
    "        self.batch_size = batch_size\n",
    "        self.segment = segment\n",
    "\n",
    "    def __len__(self):\n",
    "      if self.segment !='Train':\n",
    "        return int(np.floor(len(files_val) / self.batch_size))\n",
    "      else:\n",
    "        return int(np.floor(len(files_train) / self.batch_size))\n",
    "\n",
    "\n",
    "    def __getitem__(self, idx):\n",
    "\n",
    "        # get batch of images\n",
    "        batch = os.listdir(self.directory)[idx * self.batch_size:(idx + 1) * self.batch_size]\n",
    "        # create empty array to hold images\n",
    "        # batch.sort()\n",
    "        x = np.empty((self.batch_size, 224, 224, 1))\n",
    "        y = np.zeros((self.batch_size, 2))\n",
    "        times_gen = []\n",
    "        # loop through batch\n",
    "      \n",
    "        for i, img in enumerate(batch):\n",
    "            # populate time and position labels \n",
    "            y[i] = extract_position_time(img)[0]\n",
    "            time = extract_position_time(img)[1]\n",
    "            times_gen.append(normalize_datetime(time, times.min(), times.max()))\n",
    "             # read image\n",
    "            img = cv2.imread(os.path.join(self.directory, img),0)\n",
    "            img = cv2.resize(img, (224, 224))\n",
    "            # add image to x\n",
    "            x[i] = img.reshape(224, 224, 1)\n",
    "\n",
    "        # get output\n",
    "        output = normalize_y(y, position)\n",
    "           \n",
    "        # get time input\n",
    "        time_input = np.array(times_gen) \n",
    "        \n",
    "        return [x/255, time_input], output\n",
    "\n",
    "custom_gen_train = CustomGenerator(directory = '../images/train', segment = 'Train')\n",
    "custom_gen_val = CustomGenerator(directory = '../images/valid', segment = 'Validate')"
   ]
  },
  {
   "attachments": {},
   "cell_type": "markdown",
   "metadata": {},
   "source": [
    "# Models"
   ]
  },
  {
   "attachments": {},
   "cell_type": "markdown",
   "metadata": {},
   "source": [
    "I. Production Model, CNN/LSTM"
   ]
  },
  {
   "cell_type": "code",
   "execution_count": 137,
   "metadata": {},
   "outputs": [
    {
     "name": "stdout",
     "output_type": "stream",
     "text": [
      "Model: \"model_4\"\n",
      "__________________________________________________________________________________________________\n",
      " Layer (type)                   Output Shape         Param #     Connected to                     \n",
      "==================================================================================================\n",
      " input_9 (InputLayer)           [(None, 224, 224, 1  0           []                               \n",
      "                                )]                                                                \n",
      "                                                                                                  \n",
      " conv2d_12 (Conv2D)             (None, 224, 224, 32  320         ['input_9[0][0]']                \n",
      "                                )                                                                 \n",
      "                                                                                                  \n",
      " max_pooling2d_8 (MaxPooling2D)  (None, 112, 112, 32  0          ['conv2d_12[0][0]']              \n",
      "                                )                                                                 \n",
      "                                                                                                  \n",
      " conv2d_13 (Conv2D)             (None, 112, 112, 64  18496       ['max_pooling2d_8[0][0]']        \n",
      "                                )                                                                 \n",
      "                                                                                                  \n",
      " input_10 (InputLayer)          [(None,)]            0           []                               \n",
      "                                                                                                  \n",
      " max_pooling2d_9 (MaxPooling2D)  (None, 56, 56, 64)  0           ['conv2d_13[0][0]']              \n",
      "                                                                                                  \n",
      " reshape_4 (Reshape)            (None, 1, 1)         0           ['input_10[0][0]']               \n",
      "                                                                                                  \n",
      " conv2d_14 (Conv2D)             (None, 56, 56, 128)  73856       ['max_pooling2d_9[0][0]']        \n",
      "                                                                                                  \n",
      " lstm_8 (LSTM)                  (None, 1, 32)        4352        ['reshape_4[0][0]']              \n",
      "                                                                                                  \n",
      " flatten_4 (Flatten)            (None, 401408)       0           ['conv2d_14[0][0]']              \n",
      "                                                                                                  \n",
      " lstm_9 (LSTM)                  (None, 16)           3136        ['lstm_8[0][0]']                 \n",
      "                                                                                                  \n",
      " concatenate_4 (Concatenate)    (None, 401424)       0           ['flatten_4[0][0]',              \n",
      "                                                                  'lstm_9[0][0]']                 \n",
      "                                                                                                  \n",
      " dense_12 (Dense)               (None, 256)          102764800   ['concatenate_4[0][0]']          \n",
      "                                                                                                  \n",
      " dropout (Dropout)              (None, 256)          0           ['dense_12[0][0]']               \n",
      "                                                                                                  \n",
      " dense_13 (Dense)               (None, 2)            514         ['dropout[0][0]']                \n",
      "                                                                                                  \n",
      "==================================================================================================\n",
      "Total params: 102,865,474\n",
      "Trainable params: 102,865,474\n",
      "Non-trainable params: 0\n",
      "__________________________________________________________________________________________________\n"
     ]
    }
   ],
   "source": [
    "# define the input layers\n",
    "input_image = Input(shape=(224,224,1))\n",
    "input_time = Input(shape=times[0].shape)\n",
    "\n",
    "# drocess the input image using a CNN\n",
    "x = Conv2D(filters=32, kernel_size=3, padding='same', activation='relu')(input_image)\n",
    "x = MaxPooling2D()(x)\n",
    "x = Conv2D(filters=64, kernel_size=3, padding='same', activation='relu')(x)\n",
    "x = MaxPooling2D()(x)\n",
    "x = Conv2D(filters=128, kernel_size=3, padding='same', activation='relu')(x)\n",
    "x = Flatten()(x)\n",
    "\n",
    "# reshape input_time \n",
    "t = tf.keras.layers.Reshape(target_shape=(1, 1))(input_time)\n",
    "\n",
    "# process the input time using LSTM layers\n",
    "t = LSTM(32, return_sequences=True)(t)\n",
    "t = LSTM(16)(t)\n",
    "\n",
    "# concatenate the output of the CNN and LSTM layers\n",
    "z = tf.keras.layers.concatenate([x, t], axis=-1)\n",
    "\n",
    "# z = concatenate([x, t])\n",
    "z = Dense(256, activation='relu')(z)\n",
    "z = Dropout(0.2)(z)\n",
    "outputs = Dense(2, activation='sigmoid')(z)\n",
    "\n",
    "# define the model\n",
    "model_main = Model(inputs=[input_image, input_time], outputs=outputs)\n",
    "model_main.summary()"
   ]
  },
  {
   "attachments": {},
   "cell_type": "markdown",
   "metadata": {},
   "source": [
    "II. Montecarlo Dropout Layers"
   ]
  },
  {
   "attachments": {},
   "cell_type": "markdown",
   "metadata": {},
   "source": [
    "# Model Topology\n",
    "\n",
    "The final production classification model is a multi-input deep learning model that takes an image with accompanying time series data as inputs and outputs a predicted latitude and longitude.\n",
    "\n",
    "The image input is processed by a convolutional neural network consisting of 3 Conv2D layers follwed by MaxPooling 2D layers and a Flatten layer to reduce the image dimensions. The time-series input is reshaped by a reshape layer then processed by 2 LSTM layers. The output of the CNN and LSTM layers are concatenated and processed by 2 fully connected dense layers with 256 neurons and ReLU activation functions. The model uses Monte Carlo Dropout layers with a dropout rate of 0.2 to add uncertainty to the model predictions. The final layer is a dense layer with 2 neurons and a sigmoid activation function, which yields predicted latitude and longitude values. \n",
    "\n",
    "### Sigmoid Function as Output\n",
    "\n",
    "The sigmoid activation function is commonly used in binary classification problems, where the output is between 0 and 1, and the value represents the probability of a given instance belong to 1 of 2 classes. \n",
    "\n",
    "In this specific use case, the final dense layer has 2 neurons and sigmoid activation will output two values between 0 and 1, which are the normalized predictions for latitude and longitude. To recover latitude and longitude we simply un-normalize these values using the values we used to normalize the training data. \n",
    "\n",
    "### MC Dropout\n",
    "\n",
    "Normal dropout layers only dropout at training time, and serve as regularization to curb overfitting. For prediction time, the dropout is not applied and all nodes/connections are present. The model is thus deterministic: it will make the same prediction every time. \n",
    "\n",
    "For Monte Carlo dropout, the dropout is applied during training and during prediction time. Thus the prediction is no longer determinisitic but is now dependent on the nodes and links that were randomly chosen to be kept, and as a result, we will get a different prediction every time the model runs. \n",
    "\n",
    "The utility of this process is that we can now interpret the output of the model in a probabilistic way. A predicted position is no longer a single prediction, but is instead the mean of 100 predictions for the image, and from this distribution of predictions we are able to fix the position with a specified degree of statistical confidence and present the results visually with a confidence ellipse. \n"
   ]
  },
  {
   "cell_type": "code",
   "execution_count": 151,
   "metadata": {},
   "outputs": [],
   "source": [
    "# from tensorflow.keras.layers import Layer\n",
    "class MCdropout(Dropout):\n",
    "    # code from this source: https://towardsdatascience.com/monte-carlo-dropout-7fd52f8b6571\n",
    "    def call(self, inputs):\n",
    "        return super().call(inputs, training=True)\n",
    "\n",
    "input_image = Input(shape=(224,224,1))\n",
    "input_time = Input(shape=times[0].shape)\n",
    "\n",
    "# process the input image using a CNN\n",
    "x = Conv2D(filters=16, kernel_size=3, padding='same', activation='relu')(input_image)\n",
    "x = MaxPooling2D()(x)\n",
    "x = Conv2D(filters=32, kernel_size=3, padding='same', activation='relu')(x)\n",
    "x = MaxPooling2D()(x)\n",
    "x = Conv2D(filters=64, kernel_size=3, padding='same', activation='relu')(x)\n",
    "x = Flatten()(x)\n",
    "\n",
    "# reshape input time\n",
    "t = tf.keras.layers.Reshape(target_shape=(-1, 1))(input_time)\n",
    "\n",
    "# process the input time using LSTM layers\n",
    "t = LSTM(16, return_sequences=True)(t)\n",
    "t = LSTM(32)(t)\n",
    "\n",
    "# concatenate the output of the CNN and LSTM layers\n",
    "z = concatenate([x, t])\n",
    "z = Dense(256, activation='relu')(z)\n",
    "z = MCdropout(0.2)(z) # MC Dropout layer\n",
    "z = Dense(256, activation='relu')(z)\n",
    "z = MCdropout(0.2)(z) # MC Dropout layer\n",
    "\n",
    "# define the output layer\n",
    "outputs = Dense(2, activation='sigmoid')(z)\n",
    "\n",
    "mcmodel = Model(inputs=[input_image, input_time], outputs=outputs)"
   ]
  },
  {
   "attachments": {},
   "cell_type": "markdown",
   "metadata": {},
   "source": [
    "# Load Models"
   ]
  },
  {
   "cell_type": "code",
   "execution_count": null,
   "metadata": {},
   "outputs": [],
   "source": [
    "# load monte carlo model using custom_object_scope\n",
    "with tf.keras.utils.custom_object_scope({'haversine_loss': haversine_loss, 'MCdropout': MCdropout}):\n",
    "    mcmodel = tf.keras.models.load_model('../models/mc_model.h5')"
   ]
  },
  {
   "attachments": {},
   "cell_type": "markdown",
   "metadata": {},
   "source": [
    "# Predictions"
   ]
  },
  {
   "cell_type": "code",
   "execution_count": 153,
   "metadata": {},
   "outputs": [],
   "source": [
    "\n",
    "path = '../images/voyage_sims/voyages/30/' \n",
    "\n",
    "def predict_positions(path, model, model_type = 'reg'):\n",
    "    files_voy = os.listdir(path)\n",
    "    files_voy = [f for f in files_voy if f.endswith('.png')]\n",
    "    X_voy = np.zeros((len(files_voy), 224, 224))\n",
    "\n",
    "    for i, f in enumerate(files_voy):\n",
    "        img = cv2.imread(path + f, 0)\n",
    "        img = cv2.resize(img, (224, 224))\n",
    "        img\n",
    "        X_voy[i] = img\n",
    "        \n",
    "    X_voy = np.expand_dims(X_voy/255, 3)\n",
    "\n",
    "    # create array of voyage positions\n",
    "    position_voy = np.array([extract_position_time(f)[0] for f in files_voy])\n",
    "    # create array of voyage times\n",
    "    times_voy = np.array([extract_position_time(f)[1] for f in files_voy])\n",
    "    # normalize voyage positions\n",
    "    y_voy = normalize_y(position_voy, master_pos = position  )\n",
    "    # normalize voyage times\n",
    "    t_voy = normalize_times(times_voy, master_times = times)\n",
    "\n",
    "    if model_type == 'mcmodel':\n",
    "        predictions = []\n",
    "        for i in range(100):\n",
    "            # print('MC prediction: ', i, '/30')\n",
    "            predictions.append(mcmodel.predict([X_voy, t_voy], verbose=0))\n",
    "        predictions = np.array(predictions)\n",
    "        stds = np.std(predictions, axis=0)\n",
    "        y_pred = np.mean(predictions, axis=0)\n",
    "    else:\n",
    "        # predict voyage positions\n",
    "        y_pred = model.predict([X_voy, t_voy])\n",
    "\n",
    "    # get lat and long bounds to unnormalize\n",
    "    lat_min, lat_range, long_min, long_range = get_lat_long_bounds(position)\n",
    "\n",
    "    # unnormalize predicted and actual positions\n",
    "    pred_pos = un_normalize(y_pred, lat_range, lat_min, long_range, long_min)\n",
    "    act_pos = un_normalize(y_voy, lat_range, lat_min, long_range, long_min)\n",
    "\n",
    "    pos = pd.DataFrame()\n",
    "\n",
    "    pos['time'] = times_voy\n",
    "    pos['pred_lat'] = pred_pos[:,0]\n",
    "    pos['pred_long'] = pred_pos[:,1]\n",
    "    pos['actual_lat'] = act_pos[:,0]\n",
    "    pos['actual_long'] = act_pos[:,1]\n",
    "    pos['Error'] = haversine_loss_2 (act_pos, pred_pos)\n",
    "\n",
    "    # mean\n",
    "    print('Mean Position Error: {:0.2f} NM'.format(pos['Error'].mean()))\n",
    "    # std\n",
    "    print('Standard Deviation of Position Error: {:0.2f} NM'.format(pos['Error'].std()))\n",
    "    return pred_pos, act_pos, pos['Error'].std()"
   ]
  },
  {
   "cell_type": "code",
   "execution_count": 154,
   "metadata": {},
   "outputs": [
    {
     "name": "stdout",
     "output_type": "stream",
     "text": [
      "Mean Position Error: 0.89 NM\n",
      "Standard Deviation of Position Error: 0.59 NM\n"
     ]
    }
   ],
   "source": [
    "preds = predict_positions(path, mcmodel, model_type = 'mcmodel')"
   ]
  },
  {
   "cell_type": "code",
   "execution_count": 155,
   "metadata": {},
   "outputs": [],
   "source": [
    "files_voy = os.listdir(path)\n",
    "files_voy = [f for f in files_voy if f.endswith('.png')]\n",
    "X_voy = np.zeros((len(files_voy), 224, 224))\n",
    "\n",
    "for i, f in enumerate(files_voy):\n",
    "    img = cv2.imread(path + f, 0)\n",
    "    img = cv2.resize(img, (224, 224))\n",
    "    img\n",
    "    X_voy[i] = img\n",
    "    \n",
    "X_voy = np.expand_dims(X_voy/255, 3)\n",
    "\n",
    "# create array of voyage positions\n",
    "position_voy = np.array([extract_position_time(f)[0] for f in files_voy])\n",
    "# create array of voyage times\n",
    "times_voy = np.array([extract_position_time(f)[1] for f in files_voy])\n",
    "# normalize voyage positions\n",
    "y_voy = normalize_y(position_voy, master_pos = position  )\n",
    "# normalize voyage times\n",
    "t_voy = normalize_times(times_voy, master_times = times)\n",
    "\n",
    "\n",
    "preds_mc = []\n",
    "\n",
    "\n",
    "lat_min, lat_range, long_min, long_range = get_lat_long_bounds(position)\n",
    "for x in range(len(X_voy)):\n",
    "    intermediate_preds = []\n",
    "    for i in range(100):\n",
    "        image = X_voy[x]\n",
    "        time = t_voy[x]\n",
    "        image = np.expand_dims(image, 0)\n",
    "        time = np.expand_dims(time, 0)\n",
    "        y_pred = mcmodel.predict([image, time], verbose=0)\n",
    "        pred_pos = un_normalize(y_pred, lat_range, lat_min, long_range, long_min)\n",
    "        intermediate_preds.append(pred_pos)\n",
    "    preds_mc.append(np.array(intermediate_preds))\n",
    "\n",
    "act_pos = un_normalize(y_voy, lat_range, lat_min, long_range, long_min)\n",
    "\n",
    "mean_latitudes = [preds_mc[i][:,0][:,0].mean() for i in range(len(preds_mc))]\n",
    "mean_longitudes = [preds_mc[i][:,0][:,1].mean() for i in range(len(preds_mc))]\n",
    "\n",
    "monte_carlo_df = pd.DataFrame()\n",
    "monte_carlo_df['time'] = times_voy\n",
    "monte_carlo_df['pred_lat'] = mean_latitudes\n",
    "monte_carlo_df['pred_long'] = mean_longitudes\n",
    "monte_carlo_df['actual_lat'] = act_pos[:,0]\n",
    "monte_carlo_df['actual_long'] = act_pos[:,1]\n",
    "monte_carlo_df['Error'] = haversine_loss_2 (act_pos, np.array([mean_latitudes, mean_longitudes]).T)\n"
   ]
  },
  {
   "cell_type": "code",
   "execution_count": 189,
   "metadata": {},
   "outputs": [
    {
     "name": "stdout",
     "output_type": "stream",
     "text": [
      "1.0252007268134493\n",
      "0.33477459621496825\n"
     ]
    }
   ],
   "source": [
    "\n",
    "monte_carlo_df.sort_values(by='time', inplace=True)\n",
    "print(monte_carlo_df['Error'].mean())\n",
    "print(monte_carlo_df['Error'].std())"
   ]
  },
  {
   "cell_type": "code",
   "execution_count": 201,
   "metadata": {},
   "outputs": [],
   "source": [
    "\n",
    "def plot_lat_long(y_pred, y_true, show_track = False):\n",
    "    %matplotlib inline\n",
    "  \n",
    "    # create figure and axes\n",
    "    fig, ax = plt.subplots(figsize=(8,8))\n",
    "\n",
    "    if show_track !=False:\n",
    "        start = (39, -140)\n",
    "        end = (37, -138)\n",
    "        # get waypoints\n",
    "        waypoints = get_waypoints(start, end, 10, list_of_mile_displacements=[0])\n",
    "        # use '+' symbol for waypoints\n",
    "        ax.plot(waypoints[:,1], waypoints[:,0], 'k+', markersize=10, label='Waypoints')\n",
    "\n",
    "    # use seaborn darkgrid\n",
    "    sns.set_style(\"darkgrid\")\n",
    "    # ax.scatter(y_pred[:, 1],y_pred[:, 0], label='predicted', color = 'blue', alpha = 0.8, marker = 'o')\n",
    "    ax.scatter(y_true[:, 1],y_true[:, 0], label='actual', color = 'red', marker='x')\n",
    "    # ax.legend()\n",
    "    ax.set_xlabel('Longitude')\n",
    "    ax.set_ylabel('Latitude')\n",
    "    ax.set_title('Predicted vs. Actual Position Prediction use Monte Carlo Dropout')\n",
    "\n",
    "    # color dictionary\n",
    "    \n",
    "    for i in range(len(preds_mc)):\n",
    "        # plot all the predictions\n",
    "        # change color for each prediction\n",
    "    \n",
    "        ax.scatter(preds_mc[i][:,0][:,1], preds_mc[i][:,0][:,0], color='blue', alpha=0.05, s = 10)\n",
    "\n",
    "        # plot mean\n",
    "        ax.scatter(preds_mc[i][:,0][:,1].mean(), preds_mc[i][:,0][:,0].mean(), color='blue', alpha=1.0, marker='o', s=10)\n",
    "        \n",
    "        confidence_ellipse(preds_mc[i][:,0][:,0], preds_mc[i][:,0][:,1], ax, n_std=2.0, edgecolor='green', linestyle=':')\n",
    "\n",
    "        # add time label\n",
    "        ax.text(preds_mc[i][:,0][:,1].mean() + .005, preds_mc[i][:,0][:,0].mean(), monte_carlo_df['time'][i], fontsize=8)\n",
    "        \n",
    "    # add confidence ellipse to legend\n",
    "    ax.legend(['Actual', 'Monte Carlo Positions','Predicted', 'Two Sigma Ellipse'])\n"
   ]
  },
  {
   "cell_type": "code",
   "execution_count": 202,
   "metadata": {},
   "outputs": [
    {
     "data": {
      "image/png": "[encoded data removed]",
      "text/plain": [
       "<Figure size 800x800 with 1 Axes>"
      ]
     },
     "metadata": {},
     "output_type": "display_data"
    }
   ],
   "source": [
    "plot_lat_long(preds[0], preds[1]);"
   ]
  },
  {
   "attachments": {},
   "cell_type": "markdown",
   "metadata": {},
   "source": [
    "# Position Fixing With Confidence Ellipses\n",
    "\n",
    "The production model predicts a position by iterating over an image of the sky 100 times. The Monte Carlo Dropout layers make multiple forward passes with different dropout masks, creating 100 different position predictions for each image. The resulting arrays of predicted latitudes and longitudes are used to calculate a covariance matrix for the position. From the covariance matrix, a confidence ellipse is rendered via Eigendecomposition and scaling. The steps are as follows:\n",
    "\n",
    "\n",
    "1. Decompose the covariance matrix into eigenvalues and eigenvectors: The covariance matrix is a symmetric matrix, so it can be decomposed into a set of eigenvalues and eigenvectors, which describe the magnitude and direction of the variances in the data.\n",
    "\n",
    "2. Determine the confidence level: A confidence level of .95 was chosen for the model. \n",
    "\n",
    "3. Scale the eigenvectors: The eigenvectors are scaled by the square root of the eigenvalues and multiplied by a factor corresponding to the desired confidence level. This gives the semi-axes of the ellipse.\n",
    "\n",
    "4. Plot the ellipse: The scaled eigenvectors are used to define the axes of the ellipse, and the center of the ellipse is located at the mean of the predicted latitudes and longitudes. The ellipse is then plotted, representing the region in which the data is expected to fall with the desired level of confidence.\n",
    "\n",
    "5. The resulting confidence ellipse provides a visual representation of the uncertainty of the predicted position, with the most probable position located within the ellipse. \n"
   ]
  }
 ],
 "metadata": {
  "kernelspec": {
   "display_name": "base",
   "language": "python",
   "name": "python3"
  },
  "language_info": {
   "codemirror_mode": {
    "name": "ipython",
    "version": 3
   },
   "file_extension": ".py",
   "mimetype": "text/x-python",
   "name": "python",
   "nbconvert_exporter": "python",
   "pygments_lexer": "ipython3",
   "version": "3.9.13"
  },
  "orig_nbformat": 4,
  "vscode": {
   "interpreter": {
    "hash": "cda0ac541ab6c535dcb4ffe1de6394d0d0ba460ea4bcec2c3250fd08f595b9ac"
   }
  }
 },
 "nbformat": 4,
 "nbformat_minor": 2
}
