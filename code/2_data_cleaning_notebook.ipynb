{
 "cells": [
  {
   "attachments": {},
   "cell_type": "markdown",
   "metadata": {},
   "source": [
    "# Data Creation/Training Notebook "
   ]
  },
  {
   "cell_type": "code",
   "execution_count": 4,
   "metadata": {},
   "outputs": [],
   "source": [
    "import os\n",
    "import pandas as pd\n",
    "import numpy as np\n",
    "import datetime as dt\n",
    "\n",
    "# custom\n",
    "from utilities import extract_position_time\n",
    "from image_generator import plot_sky, create_times_array, get_waypoints, create_times_array, DRCalc\n",
    "\n",
    "# skyfield\n",
    "from skyfield.api import load, utc, Topos"
   ]
  },
  {
   "attachments": {},
   "cell_type": "markdown",
   "metadata": {},
   "source": [
    "# Project Overview\n",
    "---\n",
    "### Notebooks\n",
    "\n",
    "1. [Exploratory Data Analysis](../code/1_eda_notebook.ipynb)\n",
    "2. [Data Cleaning and preparation](../code/2_data_cleaning_notebook.ipynb) [This Notebook]\n",
    "3. [Modeling](../code/3_modeling_notebook.ipynb) \n",
    "\n",
    "### Scripts\n",
    "- [image generation](../code/image_generator.py)\n",
    "- [utility functions](../code/utilities.py)\n",
    "\n",
    "---"
   ]
  },
  {
   "attachments": {},
   "cell_type": "markdown",
   "metadata": {},
   "source": [
    "\n",
    "## II. Data Cleaning Notebook\n",
    "\n",
    "This notebook's purpose is to create and clean the images for the training grid. The actual plotting functions are largely located in `image_generation` script linked above. As a result, the annotations in this notebook are more sparse than in the other two. \n",
    "\n",
    "---"
   ]
  },
  {
   "attachments": {},
   "cell_type": "markdown",
   "metadata": {},
   "source": [
    "# I. Creating Training Images"
   ]
  },
  {
   "attachments": {},
   "cell_type": "markdown",
   "metadata": {},
   "source": [
    "Create Waypoints "
   ]
  },
  {
   "cell_type": "code",
   "execution_count": 1,
   "metadata": {},
   "outputs": [],
   "source": [
    "# starting and ending latitude and longitude\n",
    "start = (39, -140)\n",
    "end = (37, -138)"
   ]
  },
  {
   "cell_type": "code",
   "execution_count": 5,
   "metadata": {},
   "outputs": [
    {
     "name": "stdout",
     "output_type": "stream",
     "text": [
      "Number of unique waypoints:  1919\n"
     ]
    }
   ],
   "source": [
    "# create waypoints\n",
    "waypoints = get_waypoints(start, end, n=100, list_of_mile_displacements=[x for x in range(0, 10, 1)])"
   ]
  },
  {
   "attachments": {},
   "cell_type": "markdown",
   "metadata": {},
   "source": [
    "Create Times"
   ]
  },
  {
   "cell_type": "code",
   "execution_count": 6,
   "metadata": {},
   "outputs": [],
   "source": [
    "# start and end time\n",
    "start_time = dt.datetime(2020, 3, 13, 4, 0, 0,)\n",
    "end_time = dt.datetime(2020, 3, 13, 8, 0, 0)\n",
    "\n",
    "# create times array evenly spaced by specified time interval n\n",
    "times = create_times_array(start_time, end_time, n=1/60)"
   ]
  },
  {
   "attachments": {},
   "cell_type": "markdown",
   "metadata": {},
   "source": [
    "### Iterate Through Times for Each Position\n",
    "\n",
    "Due to the large number of plots it is necessary to create the the images in batches to avoid memory issues."
   ]
  },
  {
   "cell_type": "code",
   "execution_count": 5,
   "metadata": {},
   "outputs": [
    {
     "name": "stdout",
     "output_type": "stream",
     "text": [
      "Creating 15352 sky images, for grid (39, -140) to (37, -138)\n"
     ]
    }
   ],
   "source": [
    "\n",
    "batch = range(0,8)\n",
    "print(f'Creating {len(waypoints)*(len(times[0][batch]))} sky images, for grid {start} to {end}')\n",
    "\n",
    "def batch_image_generator(batch, waypoints, times, base_directory, cloud_cover = 0):\n",
    "    \"\"\"\n",
    "    Generates sky images for a given batch of waypoints and times\n",
    "    \n",
    "    Args:\n",
    "        batch (range): time range to generate images for\n",
    "        waypoints (np.array): list of waypoints\n",
    "        times (skyfield timelib.Time): array of times\n",
    "        base_directory (directory): directory to hold cloud cover image directories\n",
    "        cloud_cover (int, optional): cloud cover to generate images for. Defaults to 0.\n",
    "    \"\"\"\n",
    "    for p in waypoints:\n",
    "      for t in times[5:8]:\n",
    "        observer = Topos(p[0], p[1])\n",
    "        # create a directory for each cloud cover\n",
    "        directory = base_directory + str(0) + '/'\n",
    "        os.makedirs(directory, exist_ok=True)\n",
    "        plot_sky(t, observer, cloud_cover = cloud_cover, img_directory = directory)\n",
    "\n",
    "# batch_image_generator(batch, waypoints, times, base_directory = 'data/sky_images/', cloud_cover = 0)"
   ]
  },
  {
   "attachments": {},
   "cell_type": "markdown",
   "metadata": {},
   "source": [
    "The above function creates an image of the sky for every specified time and for every specified position in the training grid. For memory allocation purposes, it is necessary to do this in batches so that we don't crash kernel. "
   ]
  },
  {
   "attachments": {},
   "cell_type": "markdown",
   "metadata": {},
   "source": [
    "# II. Missing Images and Out of Order Image Sequences"
   ]
  },
  {
   "attachments": {},
   "cell_type": "markdown",
   "metadata": {},
   "source": [
    "The batch system creates the potential for missing images and sequences that are out of sequence. Since or goal is to train the model what the sequence of changing stars is for a specific position and time interval, it is important that the image sequences are complete and in the correct order. "
   ]
  },
  {
   "cell_type": "code",
   "execution_count": 6,
   "metadata": {},
   "outputs": [
    {
     "name": "stdout",
     "output_type": "stream",
     "text": [
      "Number of files: 78679\n"
     ]
    }
   ],
   "source": [
    "# training\n",
    "files_train = os.listdir('../images/train')\n",
    "files_train = [f for f in files_train if f.endswith('.png')]\n",
    "\n",
    "# files is a list of all the files in train and valid directories\n",
    "files = files_train \n",
    "\n",
    "# print number of files\n",
    "print(f'Number of files: {len(files)}')"
   ]
  },
  {
   "attachments": {},
   "cell_type": "markdown",
   "metadata": {},
   "source": [
    "## Create Dataframe of Times and Positions"
   ]
  },
  {
   "cell_type": "code",
   "execution_count": 7,
   "metadata": {},
   "outputs": [],
   "source": [
    "\n",
    "data_df = pd.DataFrame({'times':[extract_position_time(f)[1] for f in files]})\n",
    "data_df['positions'] = [extract_position_time(f)[0] for f in files]\n",
    "data_df.sort_values(by = 'times', inplace = True)\n",
    "complete_times = data_df['times'].unique()"
   ]
  },
  {
   "cell_type": "code",
   "execution_count": 8,
   "metadata": {},
   "outputs": [],
   "source": [
    "# for each position, find which times are missing\n",
    "def fill_missing():\n",
    "    # iterate for each position and find which times are missing\n",
    "    missing_times = []\n",
    "    for position in data_df['positions'].unique():\n",
    "        # get all times for this position\n",
    "        times = data_df[data_df['positions'] == position]['times'].unique()\n",
    "        # find which times are missing\n",
    "        missing = np.setdiff1d(complete_times, times)\n",
    "        if len(missing) > 0:\n",
    "            missing = [pd.to_datetime(m) for m in missing]\n",
    "            # get times array\n",
    "            times_array = create_times_array(missing[0], missing[-1], 6)\n",
    "            for time in times_array:\n",
    "                observer = Topos(position[0], position[1])\n",
    "                plot_sky(t = time, observer = observer, cloud_cover= 0/8, img_directory='../images/train/')"
   ]
  },
  {
   "attachments": {},
   "cell_type": "markdown",
   "metadata": {},
   "source": [
    "The `fill_missing` function examines each unique position and looks for times that are missing from the list of training times. If any position is missing a time the appropriate images are generated and sent to the training images directory. "
   ]
  },
  {
   "attachments": {},
   "cell_type": "markdown",
   "metadata": {},
   "source": [
    "Every position now has an image for every time, in the correct sequence!"
   ]
  },
  {
   "cell_type": "code",
   "execution_count": 9,
   "metadata": {},
   "outputs": [
    {
     "data": {
      "text/html": [
       "<div>\n",
       "<style scoped>\n",
       "    .dataframe tbody tr th:only-of-type {\n",
       "        vertical-align: middle;\n",
       "    }\n",
       "\n",
       "    .dataframe tbody tr th {\n",
       "        vertical-align: top;\n",
       "    }\n",
       "\n",
       "    .dataframe thead th {\n",
       "        text-align: right;\n",
       "    }\n",
       "</style>\n",
       "<table border=\"1\" class=\"dataframe\">\n",
       "  <thead>\n",
       "    <tr style=\"text-align: right;\">\n",
       "      <th></th>\n",
       "      <th>positions</th>\n",
       "    </tr>\n",
       "    <tr>\n",
       "      <th>times</th>\n",
       "      <th></th>\n",
       "    </tr>\n",
       "  </thead>\n",
       "  <tbody>\n",
       "    <tr>\n",
       "      <th>2020-03-13 04:00:00</th>\n",
       "      <td>1919</td>\n",
       "    </tr>\n",
       "    <tr>\n",
       "      <th>2020-03-13 04:06:00</th>\n",
       "      <td>1919</td>\n",
       "    </tr>\n",
       "    <tr>\n",
       "      <th>2020-03-13 04:12:00</th>\n",
       "      <td>1919</td>\n",
       "    </tr>\n",
       "    <tr>\n",
       "      <th>2020-03-13 04:18:00</th>\n",
       "      <td>1919</td>\n",
       "    </tr>\n",
       "    <tr>\n",
       "      <th>2020-03-13 04:24:00</th>\n",
       "      <td>1919</td>\n",
       "    </tr>\n",
       "    <tr>\n",
       "      <th>2020-03-13 04:30:00</th>\n",
       "      <td>1919</td>\n",
       "    </tr>\n",
       "    <tr>\n",
       "      <th>2020-03-13 04:36:00</th>\n",
       "      <td>1919</td>\n",
       "    </tr>\n",
       "    <tr>\n",
       "      <th>2020-03-13 04:42:00</th>\n",
       "      <td>1919</td>\n",
       "    </tr>\n",
       "    <tr>\n",
       "      <th>2020-03-13 04:48:00</th>\n",
       "      <td>1919</td>\n",
       "    </tr>\n",
       "    <tr>\n",
       "      <th>2020-03-13 04:54:00</th>\n",
       "      <td>1919</td>\n",
       "    </tr>\n",
       "    <tr>\n",
       "      <th>2020-03-13 05:00:00</th>\n",
       "      <td>1919</td>\n",
       "    </tr>\n",
       "    <tr>\n",
       "      <th>2020-03-13 05:06:00</th>\n",
       "      <td>1919</td>\n",
       "    </tr>\n",
       "    <tr>\n",
       "      <th>2020-03-13 05:12:00</th>\n",
       "      <td>1919</td>\n",
       "    </tr>\n",
       "    <tr>\n",
       "      <th>2020-03-13 05:18:00</th>\n",
       "      <td>1919</td>\n",
       "    </tr>\n",
       "    <tr>\n",
       "      <th>2020-03-13 05:24:00</th>\n",
       "      <td>1919</td>\n",
       "    </tr>\n",
       "    <tr>\n",
       "      <th>2020-03-13 05:30:00</th>\n",
       "      <td>1919</td>\n",
       "    </tr>\n",
       "    <tr>\n",
       "      <th>2020-03-13 05:36:00</th>\n",
       "      <td>1919</td>\n",
       "    </tr>\n",
       "    <tr>\n",
       "      <th>2020-03-13 05:42:00</th>\n",
       "      <td>1919</td>\n",
       "    </tr>\n",
       "    <tr>\n",
       "      <th>2020-03-13 05:48:00</th>\n",
       "      <td>1919</td>\n",
       "    </tr>\n",
       "    <tr>\n",
       "      <th>2020-03-13 05:54:00</th>\n",
       "      <td>1919</td>\n",
       "    </tr>\n",
       "    <tr>\n",
       "      <th>2020-03-13 06:00:00</th>\n",
       "      <td>1919</td>\n",
       "    </tr>\n",
       "    <tr>\n",
       "      <th>2020-03-13 06:06:00</th>\n",
       "      <td>1919</td>\n",
       "    </tr>\n",
       "    <tr>\n",
       "      <th>2020-03-13 06:12:00</th>\n",
       "      <td>1919</td>\n",
       "    </tr>\n",
       "    <tr>\n",
       "      <th>2020-03-13 06:18:00</th>\n",
       "      <td>1919</td>\n",
       "    </tr>\n",
       "    <tr>\n",
       "      <th>2020-03-13 06:24:00</th>\n",
       "      <td>1919</td>\n",
       "    </tr>\n",
       "    <tr>\n",
       "      <th>2020-03-13 06:30:00</th>\n",
       "      <td>1919</td>\n",
       "    </tr>\n",
       "    <tr>\n",
       "      <th>2020-03-13 06:36:00</th>\n",
       "      <td>1919</td>\n",
       "    </tr>\n",
       "    <tr>\n",
       "      <th>2020-03-13 06:42:00</th>\n",
       "      <td>1919</td>\n",
       "    </tr>\n",
       "    <tr>\n",
       "      <th>2020-03-13 06:48:00</th>\n",
       "      <td>1919</td>\n",
       "    </tr>\n",
       "    <tr>\n",
       "      <th>2020-03-13 06:54:00</th>\n",
       "      <td>1919</td>\n",
       "    </tr>\n",
       "    <tr>\n",
       "      <th>2020-03-13 07:00:00</th>\n",
       "      <td>1919</td>\n",
       "    </tr>\n",
       "    <tr>\n",
       "      <th>2020-03-13 07:06:00</th>\n",
       "      <td>1919</td>\n",
       "    </tr>\n",
       "    <tr>\n",
       "      <th>2020-03-13 07:12:00</th>\n",
       "      <td>1919</td>\n",
       "    </tr>\n",
       "    <tr>\n",
       "      <th>2020-03-13 07:18:00</th>\n",
       "      <td>1919</td>\n",
       "    </tr>\n",
       "    <tr>\n",
       "      <th>2020-03-13 07:24:00</th>\n",
       "      <td>1919</td>\n",
       "    </tr>\n",
       "    <tr>\n",
       "      <th>2020-03-13 07:30:00</th>\n",
       "      <td>1919</td>\n",
       "    </tr>\n",
       "    <tr>\n",
       "      <th>2020-03-13 07:36:00</th>\n",
       "      <td>1919</td>\n",
       "    </tr>\n",
       "    <tr>\n",
       "      <th>2020-03-13 07:42:00</th>\n",
       "      <td>1919</td>\n",
       "    </tr>\n",
       "    <tr>\n",
       "      <th>2020-03-13 07:48:00</th>\n",
       "      <td>1919</td>\n",
       "    </tr>\n",
       "    <tr>\n",
       "      <th>2020-03-13 07:54:00</th>\n",
       "      <td>1919</td>\n",
       "    </tr>\n",
       "    <tr>\n",
       "      <th>2020-03-13 08:00:00</th>\n",
       "      <td>1919</td>\n",
       "    </tr>\n",
       "  </tbody>\n",
       "</table>\n",
       "</div>"
      ],
      "text/plain": [
       "                     positions\n",
       "times                         \n",
       "2020-03-13 04:00:00       1919\n",
       "2020-03-13 04:06:00       1919\n",
       "2020-03-13 04:12:00       1919\n",
       "2020-03-13 04:18:00       1919\n",
       "2020-03-13 04:24:00       1919\n",
       "2020-03-13 04:30:00       1919\n",
       "2020-03-13 04:36:00       1919\n",
       "2020-03-13 04:42:00       1919\n",
       "2020-03-13 04:48:00       1919\n",
       "2020-03-13 04:54:00       1919\n",
       "2020-03-13 05:00:00       1919\n",
       "2020-03-13 05:06:00       1919\n",
       "2020-03-13 05:12:00       1919\n",
       "2020-03-13 05:18:00       1919\n",
       "2020-03-13 05:24:00       1919\n",
       "2020-03-13 05:30:00       1919\n",
       "2020-03-13 05:36:00       1919\n",
       "2020-03-13 05:42:00       1919\n",
       "2020-03-13 05:48:00       1919\n",
       "2020-03-13 05:54:00       1919\n",
       "2020-03-13 06:00:00       1919\n",
       "2020-03-13 06:06:00       1919\n",
       "2020-03-13 06:12:00       1919\n",
       "2020-03-13 06:18:00       1919\n",
       "2020-03-13 06:24:00       1919\n",
       "2020-03-13 06:30:00       1919\n",
       "2020-03-13 06:36:00       1919\n",
       "2020-03-13 06:42:00       1919\n",
       "2020-03-13 06:48:00       1919\n",
       "2020-03-13 06:54:00       1919\n",
       "2020-03-13 07:00:00       1919\n",
       "2020-03-13 07:06:00       1919\n",
       "2020-03-13 07:12:00       1919\n",
       "2020-03-13 07:18:00       1919\n",
       "2020-03-13 07:24:00       1919\n",
       "2020-03-13 07:30:00       1919\n",
       "2020-03-13 07:36:00       1919\n",
       "2020-03-13 07:42:00       1919\n",
       "2020-03-13 07:48:00       1919\n",
       "2020-03-13 07:54:00       1919\n",
       "2020-03-13 08:00:00       1919"
      ]
     },
     "execution_count": 9,
     "metadata": {},
     "output_type": "execute_result"
    }
   ],
   "source": [
    "data_df.groupby('times').count()"
   ]
  },
  {
   "attachments": {},
   "cell_type": "markdown",
   "metadata": {},
   "source": [
    "# III. Create Validation Images "
   ]
  },
  {
   "attachments": {},
   "cell_type": "markdown",
   "metadata": {},
   "source": [
    "In order to simulate the performance of our model on our fictioious voyage, we need to recreate the imagery that we would have seen overhead, the images may or may not align exactly with the times and positions that we trained the model on. \n",
    "\n",
    "To do this, we will use the custom `DRCalc` class, which takes a starting position, course, speed, and time interval and returns the Dead Reckoned position for that time interval up to 4 hours (our model's current temporal boundary). The sequence is:\n",
    "\n",
    "1. Take a starting position (39 N, 140 W) and time (2020 March 13, 0400 UTC)\n",
    "2. Use Mercator Sailing to determine the dead reckoned position at 0430 UTC using a course of 142 True and 20 Kts speed.\n",
    "3. DR from 0430 position to a 0500 position using a Mercator sailing and so on until 0800..\n",
    "\n",
    "We will assume that the vessel is tracking its position perfectly, i.e. current and wind are not displacing the vessel from its intended track at all. Modern autopilot and waypoint control systems such as Warstila's Trackpilot enable a vessel to maintain a track with a crosstrack error of 1 meter or less so this is not un-realistic. "
   ]
  },
  {
   "cell_type": "code",
   "execution_count": 8,
   "metadata": {},
   "outputs": [
    {
     "data": {
      "text/plain": [
       "[array([  39, -140]),\n",
       " array([  38.99996833, -139.9998885 ]),\n",
       " array([  38.99993666, -139.999777  ]),\n",
       " array([  38.99990499, -139.9996655 ]),\n",
       " array([  38.99987333, -139.99955399]),\n",
       " array([  38.99984166, -139.99944249]),\n",
       " array([  38.99980999, -139.99933099]),\n",
       " array([  38.99977832, -139.99921949]),\n",
       " array([  38.99974665, -139.99910799]),\n",
       " array([  38.99971498, -139.99899649])]"
      ]
     },
     "execution_count": 8,
     "metadata": {},
     "output_type": "execute_result"
    }
   ],
   "source": [
    "\n",
    "\n",
    "# Use DRcalc to calculate the position of the ship every 15 minutes for 4 hours\n",
    "positions = []\n",
    "lat = 39\n",
    "long = -140\n",
    "positions.append(np.array([lat, long]))\n",
    "for i in range(len(times[1])-1):\n",
    "    ship = DRCalc(lat, long, dt.timedelta(minutes=1/60).total_seconds(), 110, 20)\n",
    "    lat = ship.drlatfwds\n",
    "    long = ship.drlongfwds\n",
    "\n",
    "    positions.append(np.array([lat, long]))\n",
    "\n",
    "# show the first 10 positions\n",
    "positions[:10]"
   ]
  },
  {
   "cell_type": "code",
   "execution_count": 1,
   "metadata": {},
   "outputs": [],
   "source": [
    "def create_voyage_images(times, positions, directory, cloud_cover=0/8):\n",
    "    \"\"\"Creates validation images for a given set of times and positions\n",
    "\n",
    "    Args:\n",
    "        times (Skyfield.timelib.Time): Skyfield time array.\n",
    "        positions (np.array): Array of positions.\n",
    "        directory (directrory): Directory to hold validation images. \n",
    "        cloud_cover (int, optional): Cloud cover of sky images. Defaults to 0/8.\n",
    "    \"\"\"\n",
    "    for i, position in enumerate(positions):\n",
    "        observer = Topos(latitude_degrees = position[0], longitude_degrees=position[1])\n",
    "        print('Creating sky For :',times[1][i], position)\n",
    "        plot_sky(times[0][i], observer, cloud_cover=0/8, img_directory='../images_val/voyage_sims/voyages/60_seconds/')\n",
    "\n",
    "# create_voyage_images(times, positions, directory='../images_val/voyage_sims/voyages/60_seconds/')"
   ]
  }
 ],
 "metadata": {
  "kernelspec": {
   "display_name": "base",
   "language": "python",
   "name": "python3"
  },
  "language_info": {
   "codemirror_mode": {
    "name": "ipython",
    "version": 3
   },
   "file_extension": ".py",
   "mimetype": "text/x-python",
   "name": "python",
   "nbconvert_exporter": "python",
   "pygments_lexer": "ipython3",
   "version": "3.9.13"
  },
  "orig_nbformat": 4,
  "vscode": {
   "interpreter": {
    "hash": "cda0ac541ab6c535dcb4ffe1de6394d0d0ba460ea4bcec2c3250fd08f595b9ac"
   }
  }
 },
 "nbformat": 4,
 "nbformat_minor": 2
}
